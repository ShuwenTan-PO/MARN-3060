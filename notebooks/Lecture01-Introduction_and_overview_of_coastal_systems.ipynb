{
 "cells": [
  {
   "cell_type": "markdown",
   "id": "fc586603-221c-4a1e-bdce-c6bdc8bbc52f",
   "metadata": {},
   "source": [
    "# Lecture01 - Introduction and Overview of Coastal Systems\n",
    "<div class=\"alert alert-block alert-success\">\n",
    "<b>Learning Objectives:</b> forcing, continental slope, shelf, inner shelf, beach, coast morphology\n",
    "</div>\n",
    "reference:\n",
    "\n",
    "- BS chapter 1, 2; Brink chapter 1 "
   ]
  },
  {
   "cell_type": "markdown",
   "id": "9b27c074-6155-48bf-a11a-3aaf54ca3842",
   "metadata": {},
   "source": [
    "## What does \"Coastal\" Mean?"
   ]
  },
  {
   "cell_type": "markdown",
   "id": "4cf80a0b-2926-45ce-a97f-200306f93159",
   "metadata": {},
   "source": []
  },
  {
   "cell_type": "markdown",
   "id": "c5e39df3-d372-494f-bde4-67883b7cf65c",
   "metadata": {},
   "source": [
    "<!-- ![alt text](../figures/lecture01/coastal_features.png) -->\n",
    "<img src=\"../figures/lecture01/coastal_features.png\" width=\"1000\" height=\"600\">\n",
    "\n",
    "**Coastal zone** broad term for the area influenced by proximity to the coast; both the onshore and offshore limits are (deliberately)imprecisely defined. The limit on land may be a few hundred metres inland from a cliff top or several kilometres where there are\n",
    "extensive sand dunes, or along tidal estuaries. The seaward limit may be the edge of the continental shelf and is usually at least several kilometres. \n",
    "\n",
    "**Offshore zone** portion of the profile where there is no significant transport of sediment by wave action. The landward boundary can be defined precisely as the transition to water depths less than onehalf the wave length of large storm waves. Note that the landward boundary is often defined (especially by coastal engineers) as the outer limit of the breaker zone. It is also occasionally used simply to include everything seaward of the low-tide line.\n"
   ]
  },
  {
   "cell_type": "markdown",
   "id": "7dd5c312-9485-44a4-a2bc-ce21cd82c929",
   "metadata": {},
   "source": [
    "## Why is the Coastal Ocean Important?"
   ]
  },
  {
   "cell_type": "markdown",
   "id": "3c170829-7686-4582-99fe-b82ee24167f6",
   "metadata": {},
   "source": [
    "<div class=\"alert alert-block alert-info\">\n",
    "<b>Tip:</b> population, resources, environment, harzard...</div>"
   ]
  },
  {
   "cell_type": "markdown",
   "id": "06968bb1-df0d-4e68-ad04-3c67618d2128",
   "metadata": {},
   "source": [
    "## What Makes the Coastal Ocean Different?"
   ]
  },
  {
   "cell_type": "markdown",
   "id": "3870d46d-907c-4883-a144-33b9aeea6955",
   "metadata": {},
   "source": [
    "<div class=\"alert alert-block alert-warning\">\n",
    "<b>Example:</b> Use yellow boxes for examples that are not inside code cells, or use for mathematical formulas if needed. Typically also used to display warning messages.\n",
    "</div>"
   ]
  },
  {
   "cell_type": "code",
   "execution_count": null,
   "id": "d96132ff-667a-42c7-948b-c6ecb021476e",
   "metadata": {},
   "outputs": [],
   "source": []
  }
 ],
 "metadata": {
  "kernelspec": {
   "display_name": "Python (MARN-3060)",
   "language": "python",
   "name": "marn-3060"
  },
  "language_info": {
   "codemirror_mode": {
    "name": "ipython",
    "version": 3
   },
   "file_extension": ".py",
   "mimetype": "text/x-python",
   "name": "python",
   "nbconvert_exporter": "python",
   "pygments_lexer": "ipython3",
   "version": "3.13.3"
  }
 },
 "nbformat": 4,
 "nbformat_minor": 5
}
