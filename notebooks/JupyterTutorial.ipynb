{
 "cells": [
  {
   "cell_type": "markdown",
   "metadata": {},
   "source": [
    "# 1. Intro"
   ]
  },
  {
   "cell_type": "markdown",
   "metadata": {},
   "source": [
    "## Get your hands dirty!\n",
    "\n",
    "This is a very basic \"follow me\" type of tutorial aiming to get you ready with \n",
    "1) installing Python, Jupyter Lab, and packages under a [conda working environment](https://docs.conda.io/projects/conda/en/latest/user-guide/tasks/manage-environments.html) on your laptop *(recommended)*\n",
    "2) or using [Google Colab](https://colab.research.google.com/) if you don't have a laptop;"
   ]
  },
  {
   "cell_type": "markdown",
   "metadata": {},
   "source": [
    "## Some materials\n",
    "Amazing courses by ocean/climate scientists!\n",
    "\n",
    "- https://currents.soest.hawaii.edu/ocn_data_analysis/index.html\n",
    "- https://carpentrieslab.github.io/python-aos-lesson/\n",
    "\n",
    "<!-- CCHDO Data Archive:\\\n",
    "https://cchdo.ucsd.edu/\n",
    "\n",
    "Etopo1 data:\\\n",
    "https://www.ngdc.noaa.gov/mgg/global/\n",
    "\n",
    "GSW-Python:\\\n",
    "https://teos-10.github.io/GSW-Python/\n",
    "\n",
    "Xarray:\\\n",
    "https://xarray.pydata.org/en/stable/ -->"
   ]
  },
  {
   "cell_type": "markdown",
   "metadata": {},
   "source": [
    "# 2. Using your own laptop"
   ]
  },
  {
   "cell_type": "markdown",
   "metadata": {},
   "source": [
    "**---- 1. Install Miniforge ----**\n",
    ">Miniforge is a community-driven, minimal installer for Conda that is pre-configured to use the conda-forge channel by default. Conda is an open source package management system and environment management system for installing multiple versions of software packages and their dependencies and switching easily between them. It works on Linux, OS X and Windows, and was created for Python programs but can package and distribute any software.\n",
    "1) First of all, know your operating system (Windows or MacOS).\n",
    "2) Follow [instruction](https://github.com/conda-forge/miniforge#install) to install Miniforge for your operating system: e.g., for macOS, run `curl -L -O \"https://github.com/conda-forge/miniforge/releases/latest/download/Miniforge3-$(uname)-$(uname -m).sh\"` in your terminal\n",
    "<!-- 2) Download installer (via https://docs.conda.io/en/latest/miniconda.html or run \"curl -O https://repo.anaconda.com/miniconda/Miniconda3-latest-MacOSX-x86_64.sh\" in your terminal) -->\n",
    "<!-- 3) Excecute the shell script (if you're using a Mac, run \"bash Miniconda3-latest-MacOSX-x86_64.sh\" in your terminal) -->\n",
    "\n",
    "**---- 2. Install Git and clone the class repository to your laptop ----**\n",
    ">GitHub is a web-based platform built on Git that provides version control, collaboration tools, and project management features for software development. Read more about GitHub and Git [here](https://docs.github.com/en/get-started/start-your-journey/about-github-and-git).\n",
    "\n",
    "1) If you have a macbook, the easiest way is to install Homebrew first and then run in your terminal: first, open a terminal and install the package manager [homebrew](https://brew.sh/) by running `/bin/bash -c \"$(curl -fsSL https://raw.githubusercontent.com/Homebrew/install/HEAD/install.sh)\"` then run `brew install git` to install git; or you can download and install git from their [website](https://git-scm.com/downloads)\n",
    "2) clone GitHub repository `git clone https://github.com/ShuwenTan-PO/MARN-3060.git` to access to the latest class materials\n",
    "\n",
    "**---- 3. Make a Conda working environment from .yml file ----**\n",
    ">With conda, you can create, export, list, remove, and update environments that have different versions of Python and/or packages installed in them. Switching or moving between environments is called activating the environment. You can also share an environment file.\n",
    "\n",
    "Here I only introduce creating an environment from an environment.yml file, see more [here](https://conda.io/projects/conda/en/latest/user-guide/tasks/manage-environments.html)  \n",
    "\n",
    "1) Go to the class directory\n",
    "2) Create the environment from the environment.yml file: run `conda env create -f environment.yml` in terminal \n",
    "3) Activate the new environment: `conda activate MARN-3060`\n",
    "4) Verify that the new environment was installed correctly: `conda env list`\n",
    "5) View a list of the packages in an environment: `conda list` \n",
    "\n",
    "**---- 3*. Or you can make a Conda working environment from scratch ----**\n",
    "1) Create a new environment: `conda create -n MARN-3060 python scipy numpy matplotlib dask pandas xarray xgcm netcdf4 cmocean gsw xhistogram jupyterlab ipykernel wget curl pip cartopy`\n",
    "2) Activate the new environment: `conda active MARN-3060`\n",
    "3) Install gsw to your Conda environment: `conda install -c conda-forge gsw`\n",
    "4) Save environment variables: `conda env export > environment.yml`\n",
    "\n",
    "**---- 4. Jupyter Notebook set up ----** \n",
    "Add the Conda environment to your Jupyter notebook: `python -m ipykernel install --user --name=MARN-3060`"
   ]
  },
  {
   "cell_type": "markdown",
   "metadata": {},
   "source": [
    "# 3. Using Google Colab on a public PC"
   ]
  },
  {
   "cell_type": "code",
   "execution_count": null,
   "metadata": {},
   "outputs": [],
   "source": []
  }
 ],
 "metadata": {
  "kernelspec": {
   "display_name": "MARN-3060",
   "language": "python",
   "name": "marn-3060"
  },
  "language_info": {
   "codemirror_mode": {
    "name": "ipython",
    "version": 3
   },
   "file_extension": ".py",
   "mimetype": "text/x-python",
   "name": "python",
   "nbconvert_exporter": "python",
   "pygments_lexer": "ipython3",
   "version": "3.13.5"
  },
  "latex_envs": {
   "LaTeX_envs_menu_present": true,
   "autoclose": false,
   "autocomplete": true,
   "bibliofile": "biblio.bib",
   "cite_by": "apalike",
   "current_citInitial": 1,
   "eqLabelWithNumbers": true,
   "eqNumInitial": 1,
   "hotkeys": {
    "equation": "Ctrl-E",
    "itemize": "Ctrl-I"
   },
   "labels_anchors": false,
   "latex_user_defs": false,
   "report_style_numbering": false,
   "user_envs_cfg": false
  }
 },
 "nbformat": 4,
 "nbformat_minor": 4
}
