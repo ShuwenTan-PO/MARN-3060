{
 "cells": [
  {
   "cell_type": "markdown",
   "id": "384c66ce-31af-4ffd-8f2f-e8c2c8ea490c",
   "metadata": {},
   "source": [
    "# Final Group Project Guidelines"
   ]
  },
  {
   "cell_type": "markdown",
   "id": "fc48a37c-c8a5-4407-98b4-1cb94ea70c7b",
   "metadata": {},
   "source": [
    "For the final group assignment, students will work in pairs or small groups (2–3 members) to investigate a scientific topic related to the course. The project should involve **quantitative analysis** of oceanographic datasets (e.g., observations collected during the field trip). Students are encouraged to integrate additional in-situ and remote sensing data sources such as:\n",
    "- [Tidal gauges](https://tidesandcurrents.noaa.gov/stations.html?type=Water+Levels)\n",
    "- [Wave buoys](https://cdip.ucsd.edu/m/stn_table/)\n",
    "- [River gauges and monitoring](https://waterdata.usgs.gov/explore/#dataCollections=continuous&mapCenter=41.40617085161017,-72.19116210937501&mapZoomLevel=10)\n",
    "- [River discharge](https://waterdata.usgs.gov/ct/nwis/rt)\n",
    "- [Argo floats](https://www.go-bgc.org/array-status#locations)\n",
    "- [GO-SHIP transects](https://cchdo.ucsd.edu/)\n",
    "- [Moorings](https://lisicos.uconn.edu/)\n",
    "- [Satellite observations](https://coastwatch.noaa.gov/cw_html/cwViewer.html)\n",
    "  \n",
    "Students may also incorporate model outputs or reanalysis products such as:\n",
    "- [Global Ocean Physics Reanalysis-GLORYS12V1](https://data.marine.copernicus.eu/viewer/expert?view=viewer&crs=epsg%3A4326&t=1491325200000&z=-0.49402499198913574&center=-118.62708376697086%2C34.36678510519492&zoom=11.44000918984801&layers=H4sIAA0M5WgAA23Q0U6DMBQG4Hfp9dhahnFyN5VsSyAuTk2IMSdntAJJSwktRlx4dwuyaMwuT9P2..7zeiLaFqK507rhhoSnfkZKTkJihaoZmRGJnWh2w8khWsfRSxTDJn6A.TaFOIAkBUpXQIPrRaaEMqCPxjMScqmhLjrPmAJUByilQevJwOMtZsajc_ZfcZHDnt2DT.2AsQVy6_K_dhUXnySkLlnnhwylIOE7SiOcy2xLzkVFQtu0bs601I3CetQdUWKVCdLPLjT6LeHst_sYkuf4aZdG68exCKUM6JJOFZTmZ.9gp3O6Wk5WTw3apdO6BIv6D5g58bg4kP6wtv.4D5StSEqHvzkP6J75gbtb5oXdNLr9aTJ93b99A7O3LVmcAQAA&basemap=dark)\n",
    "  \n",
    "to support their investigation. Additional guidance is available upon discussion with the instructor. Weekly assignments will provide practice and example code to help with data analysis. Groups should be formed by **Week 8**, and final presentations will take place in **Week 15**."
   ]
  },
  {
   "cell_type": "markdown",
   "id": "a99d4fb3-2786-4eaa-909c-7de4e0a4e34c",
   "metadata": {},
   "source": [
    "## Presentation Structure\n",
    "Each group presentation should include the following components:\n",
    "- **Introduction**: \n",
    "Briefly introduce the scientific question or topic your group chose to investigate. Explain what motivated your choice—was it a recent event, a gap in understanding, or a curiosity sparked during the field trip or lectures? Clearly state the objective of your study.\n",
    "- **Background / Scientific Context**: \n",
    "Provide an overview of the relevant oceanographic processes (e.g., tides, waves, inner shelf dynamics, estuarine circulation). Describe the physical mechanisms involved and how they relate to your topic. Include any known theories or previous findings that help frame your investigation. Highlight why this topic matters in the context of coastal or oceanographic systems.\n",
    "- **Methods**:\n",
    "Describe the data sources used in your project. Be specific about how the data were collected or obtained, and how they support your analysis.\n",
    "  - *Field Trip Data*: If you used data collected during the field trip, explain which instruments were used (e.g., YSI, turbidity meter), the site locations, and the resolution or frequency of the measurements.\n",
    "  - *Public Datasets*: If you used publicly available datasets, list the sources (e.g., NOAA, USGS, Argo), describe what variables they measure, and note whether they are observational data or model outputs.\n",
    "  - *Literature Review*: If your project is based on a review of published studies, list the papers you reviewed and explain how you synthesized metadata or findings from those sources to support your analysis.\n",
    "- **Results**: \n",
    "Present your key findings. Include data visualizations, figures, and analysis. Discuss whether your results align with or challenge concepts covered in class. Highlight any trends, anomalies, or patterns you discovered. Discuss whether your results align with or challenge concepts covered in class, and explain possible reasons for any discrepancies. Use graphs or maps to support your interpretation.\n",
    "- **Conclusion**: \n",
    "Summarize the main takeaways from your project. What did you learn? What are the implications? Connect your findings back to the original research question. Emphasize the significance of your results in the broader context of oceanography or environmental science.\n",
    "- **Discussion**:\n",
    "Reflect on the limitations of your analysis, potential sources of error, and ideas for future research. Consider how your findings fit into the broader oceanographic context. Could your approach be applied to other regions or systems? What additional data or methods would improve your study?"
   ]
  },
  {
   "cell_type": "markdown",
   "id": "96d41896-f560-4bc9-bb35-982fa1bc0323",
   "metadata": {},
   "source": [
    "## Project Example:"
   ]
  },
  {
   "cell_type": "markdown",
   "id": "5f220194-2a63-4212-9e6f-e1d0a2219129",
   "metadata": {},
   "source": [
    "### Quantifying the Compound Effects of Tidal Phase, Wave Height, and River Discharge on Coastal Flooding During Hurricane Irine\n",
    "\n",
    "research directions and discussion points: \n",
    "- Use tide gauge data, river discharge records, and satellite-derived wave heights to analyze how the timing and magnitude of these factors contributed to flooding in a specific coastal region\n",
    "- Discuss how real-time monitoring and forecasting could help mitigate environmental and public health risks\n",
    "- Consider the role of climate variability or long-term trends (e.g., sea level rise, changing precipitation patterns) in altering flood risk\n",
    "- How do nutrient and pollutant concentrations change during and after a flood?\n"
   ]
  },
  {
   "cell_type": "markdown",
   "id": "cd41b4c8-5ff3-4cbf-a329-14d3f8d99a8f",
   "metadata": {},
   "source": [
    "## Project Topics:\n",
    "Here are some example topics to consider (you may also adapt the example project to another hurricane). You are very much encouraged to propose your own:"
   ]
  },
  {
   "cell_type": "markdown",
   "id": "d888fd45-725b-48cd-bf3b-c095c54af715",
   "metadata": {},
   "source": [
    "### 1. Temporal Variability of Estuarine Stratification and Biochemical Responses in the Thames River Estuary\n",
    "\n",
    "Combine in-situ salinity and temperature profiles with tidal phase data to assess how stratification varies over tidal cycles. Explore how these physical changes may correlate with biochemical responses in the water column. How does this variability shift over a spring-neap cycle or across different seasons?"
   ]
  },
  {
   "cell_type": "markdown",
   "id": "969b7519-d06c-48ef-b016-ede4f6f68ad2",
   "metadata": {},
   "source": [
    "### 2. Impact of Wind-Driven Upwelling on Chlorophyll Concentrations Along the Northern California Current System\n",
    "\n",
    "Use satellite ocean color data and wind stress from reanalysis products to investigate seasonal upwelling events and biological response. A review paper you may potentially refer to: [New Insights into the Controls and Mechanisms of Plankton Productivity in Coastal Upwelling Waters of the Northern California Current System by Kudela et al. (2008)](https://tos.org/oceanography/assets/docs/21-4_kudela.pdf)"
   ]
  },
  {
   "cell_type": "markdown",
   "id": "8ae1fcd3-3367-49da-9b58-b2b1fd283511",
   "metadata": {},
   "source": [
    "### 3. Sediment in the Long Island Sound\n",
    "\n",
    "Compare sediment characteristics across different regions of the Sound (e.g., western vs. eastern basin, nearshore vs. offshore).\n",
    "Discuss the implications of sediment changes for ecosystem health, water quality, and coastal management.\n",
    "Consider how human activities (e.g., urban runoff, dredging, construction) have influenced sediment patterns over time. \n",
    "A review paper you may potentially refer to: [Sediment mass balance of a large estuary, Long Island Sound by Bokuniewicz et al. (1976)](https://www.sciencedirect.com/science/article/pii/030235247690027X)"
   ]
  },
  {
   "cell_type": "code",
   "execution_count": null,
   "id": "0f45d5cf-d74b-4a73-93f6-693761e89fe2",
   "metadata": {},
   "outputs": [],
   "source": []
  }
 ],
 "metadata": {
  "kernelspec": {
   "display_name": "MARN-3060",
   "language": "python",
   "name": "marn-3060"
  },
  "language_info": {
   "codemirror_mode": {
    "name": "ipython",
    "version": 3
   },
   "file_extension": ".py",
   "mimetype": "text/x-python",
   "name": "python",
   "nbconvert_exporter": "python",
   "pygments_lexer": "ipython3",
   "version": "3.13.5"
  }
 },
 "nbformat": 4,
 "nbformat_minor": 5
}
