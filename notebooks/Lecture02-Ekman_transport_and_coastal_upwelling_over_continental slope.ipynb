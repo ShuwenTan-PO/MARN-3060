{
 "cells": [
  {
   "cell_type": "markdown",
   "id": "1ccccac8-6eee-482d-aa1d-fb704eee570f",
   "metadata": {},
   "source": [
    "# Lecture02 - Ekman transport and coastal upwelling over continental slope \n",
    "<div class=\"alert alert-block alert-success\">\n",
    "<b>Learning Objectives:</b> Ekman transport, major upwelling systems including California upwelling, upwelling in Gulf of Maine\n",
    "</div>"
   ]
  },
  {
   "cell_type": "markdown",
   "id": "4cbcc2ed-89bf-4dc8-a3ba-e2bef45d904d",
   "metadata": {},
   "source": [
    "## Why is the waters off the west coast of the Americas are cool in the summer time?"
   ]
  },
  {
   "cell_type": "markdown",
   "id": "994f0258-289e-4ac5-8e1f-fa94013124f7",
   "metadata": {},
   "source": [
    "<div class=\"alert alert-block alert-warning\">\n",
    "<b>Task1:</b> Go to the <a href=\"https://data.marine.copernicus.eu/viewer/expert?view=viewer&crs=epsg%3A4326&t=1596024000000&z=-0.49402499198913574&center=-166.61053272839652%2C33.948537504027776&zoom=10.425732578519888&layers=H4sIABdEL2gAA13QYUvDMBAG4P_Sz0t3aauOfqtYXCHF4VQoIkdsYltI1rGkYh377yZjY8OP73HHPbzve9JLkhGnzJaRGdFiUrsyTNZFzou3guMjf8LVskaeYlUjwAIhvZs3RhmLw6elVmOrB9x2E7W2QzOh0NoKR3VK5SgaSyFi8Y1ULa7YA8YQp4zNhXT_3W_5keqHZOA.D_26EVqR7Etoq2akt8teSrUhmduNPn8LPaqq9xmi9BxFOI5uD7P9Fd2L73OO1St.Kesifz7yARhCAie4GeRZHcQQwSI5CakJxsQbXaecGK6YzDuPdaGOQ1n.yRdi2LwIEzh8.AHLlFM2agEAAA--&basemap=dark\">Copernicus Marine MyOcean Viewer</a> and describe what features you see in sea surface temperature on 07/29/2020.\n",
    "</div>\n"
   ]
  },
  {
   "cell_type": "markdown",
   "id": "58631269-6822-4876-b6e9-81736dd32fc7",
   "metadata": {},
   "source": [
    "### Hypothesis 1 ###"
   ]
  },
  {
   "cell_type": "code",
   "execution_count": null,
   "id": "2e64aa1a-8a0b-4118-bafa-fe3cbec92078",
   "metadata": {},
   "outputs": [],
   "source": []
  }
 ],
 "metadata": {
  "kernelspec": {
   "display_name": "Python (MARN-3060)",
   "language": "python",
   "name": "marn-3060"
  },
  "language_info": {
   "codemirror_mode": {
    "name": "ipython",
    "version": 3
   },
   "file_extension": ".py",
   "mimetype": "text/x-python",
   "name": "python",
   "nbconvert_exporter": "python",
   "pygments_lexer": "ipython3",
   "version": "3.13.3"
  }
 },
 "nbformat": 4,
 "nbformat_minor": 5
}
