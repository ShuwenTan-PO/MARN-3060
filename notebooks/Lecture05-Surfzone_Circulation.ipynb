{
 "cells": [
  {
   "attachments": {},
   "cell_type": "markdown",
   "id": "6a04f9cf-4e2b-4ed2-a79f-bfba31ca3695",
   "metadata": {},
   "source": [
    "# Lecture05 - Wave-driven Surfzone Circulation\n",
    "<div class=\"alert alert-block alert-success\">\n",
    "<b>Learning Objectives:</b> wave breaking, wave decay in surf zone, undertow in the surf zone, wave-induced sea-level set-up and set-down, wave-induced longshore current, rip current, sediment transport due to longshore drift and longshore current\n",
    "</div>\n",
    "\n",
    "Before class:\n",
    "\n",
    "- [class survey](https://docs.google.com/forms/d/e/1FAIpQLSfaArgm-KJQl-Dj991iK-TPB4prWjb48T8KX1Ax6KkhAPF9HQ/viewform)!\n",
    "\n",
    "After class:\n",
    "\n",
    "- Watch [video](https://youtu.be/Lz97moE41Xo) on why Cortes Banks have 77-foot waves!\n",
    "- Explore [website](https://www.weather.gov/safety/ripcurrent) on rip current safety!\n",
    "\n",
    "Reference:\n",
    "\n",
    "- Textbook 5.3.1, 6.1-6.3, skip 6.3.2\n",
    "- optional: BS 5.5.7"
   ]
  },
  {
   "cell_type": "markdown",
   "id": "fa21e268-f8b3-44d8-8bfc-7b6f92b51042",
   "metadata": {},
   "source": [
    "## Class survey:\n",
    "Feel free to share any thoughts or feedback throughout the semester using this Google Form (https://docs.google.com/forms/d/e/1FAIpQLSfaArgm-KJQl-Dj991iK-TPB4prWjb48T8KX1Ax6KkhAPF9HQ/viewform). The form is anonymous, but if you’d like to include your name, you’re welcome to add it in your response."
   ]
  },
  {
   "cell_type": "markdown",
   "id": "559f3b16-51cb-4fdf-a9ef-17b48396758a",
   "metadata": {},
   "source": [
    "## 1. Wave Reviews"
   ]
  },
  {
   "cell_type": "markdown",
   "id": "04afeb70-8609-4e39-b0c8-edd120f634dd",
   "metadata": {},
   "source": [
    "Swells in open ocean - deep waver wave\n",
    "<div class=\"alert alert-block alert-warning\">\n",
    "<b>Class Discussion 1:</b> Waves arriving at a beach from a distant storm progressively decrease in wave period, from 10 to 5 sec, with the 5-sec waves arriving 10 hours later than the 10-sec waves. Assuming deep-water wave conditions for the entire travel distance, how far away was the storm?\n",
    "</div>\n"
   ]
  },
  {
   "cell_type": "markdown",
   "id": "cabbedb7-7aa0-452c-ae07-9aa254fdf0ad",
   "metadata": {
    "jp-MarkdownHeadingCollapsed": true
   },
   "source": [
    "[Tsunami wave propagation](https://www.noaa.gov/jetstream/tsunamis/tsunami-propagation) - shallow water wave\n",
    "<div class=\"alert alert-block alert-warning\">\n",
    "<b>Class Discussion 2:</b> The wave length of a Tsunami wave is much larger than the water depth (e.g., $L=213$ km, $h$=4000 m)! Estimate the propagation speed of a tsunami wave in the open ocean (approximately 4000 m deep) using the shallow water Airy wave theory. Is the speed of a tsunami more comparable to that of a jet plane (800 km/h) or a car (30–50 km/h)? How long does it take for a tsunami wave to travel across the Pacific Ocean? What happens when it enters shallow water near the coast?\n",
    "</div>\n"
   ]
  },
  {
   "cell_type": "markdown",
   "id": "1b8910ef-8c23-4aeb-b669-950541780306",
   "metadata": {},
   "source": [
    "Wave breaking in deep vs shallow waters\n",
    "<div class=\"alert alert-block alert-warning\">\n",
    "<b>Class Discussion 3:</b> Consider a deep-water wave height $H_S$ = 1.5 m and a wave period of $T$ = 5 s.\n",
    "We find $L_\\infty = \\frac{g}{2\\pi}T^2 = 39$ m, and $H_S/L_\\infty$ = 0.04. Under these conditions, even for the higher waves in the record, little white-capping is expected. However, when this wave enter shallow water (~ $h$ = 10 m), **depth-induced breaking** is expected since the maximum value of $H_S/h$ for which the largest waves are breaking is therefore about 0.4~0.5.\n",
    "</div>\n"
   ]
  },
  {
   "cell_type": "markdown",
   "id": "7d5c699b-42f4-4fcc-aa6f-e4d430f35318",
   "metadata": {},
   "source": [
    "## 2. Wave Breaking\n",
    "Recall the four types of wave breaking: **spilling, plunging, collapsing, and surging** and watch \n",
    "- [Types of Waves - spilling and plunging](https://www.youtube.com/watch?v=N4aBYmQXPzc&list=RDN4aBYmQXPzc&start_radio=1) in surfing\n",
    "- [Surging Waves in North Spain](https://www.youtube.com/watch?v=fPDS9bvWscs)\n",
    "- [Mike Parsons surfing 77 foot wave at Cortes Bank. From the documentary \"Billabong Odyssey\"](https://www.youtube.com/watch?v=2Hdpm8lUJRw)\n",
    "\n",
    "Cortes Banks is located at 100+ miles off the coast! Why do big waves form?\n",
    "\n",
    "<!-- ![source: https://geophile.net/Lessons/waves/waves_02.html](../figures/lecture05/cortesbanks.fw.png) -->\n",
    "<img src=\"../figures/lecture05/cortesbanks.fw.png\" width=\"800\">\n",
    "\n",
    "\n",
    "Cortes Bank is a submerged ridge; were it any taller it would be an island. The water depth is pretty deep there, so the large waves formed by offshore storms can extend down deep. The seafloor shallows abruptly as the wave aproaches Cortes Bank. The wavebase starts to interact with the shallow seafloor, creating very high waves (**wave shoaling**).\n"
   ]
  },
  {
   "cell_type": "markdown",
   "id": "23841fd9-cfa2-44e2-9c16-fccc1b56e270",
   "metadata": {},
   "source": [
    "### 1) surf zone\n",
    "\n",
    "<!-- ![source: https://geophile.net/Lessons/waves/waves_02.html](../figures/lecture05/surf_zone.jpg) -->\n",
    "<img src=\"../figures/lecture05/surf_zone.jpg\" width=\"800\">\n",
    "\n",
    "In the open ocean, the wave train begins to move towards the shore. So long as the wave is moving through water\n",
    "\n",
    "(1) that is greater than 1/2 their wavelength the orbits will remain circular\n",
    "\n",
    "(2). However, the circular motion of water molecules is interrupted and the wave slows as water becomes more shallow. Energy is no longer dissipated with depth, so the energy goes up and the wave becomes too high for its wavelength. The water at the top of the wave\n",
    "\n",
    "(3) is now moving faster than that at the bottom of the wave. The orbits are still trying to form, and the wave breaks\n",
    "\n",
    "(4) and forms the surf\n",
    "\n",
    "(5) as it rushes on shore."
   ]
  },
  {
   "cell_type": "markdown",
   "id": "e3f23126-e48a-45af-9d93-11dc4541a534",
   "metadata": {},
   "source": [
    "### 2) wave decay in surf zone\n",
    "\n",
    "#### a. decay in wave height\n",
    "<!-- ![source: B.S. book](../figures/lecture05/breaker_point.png) -->\n",
    "<img src=\"../figures/lecture05/breaker_point.png\" width=\"600\">\n",
    "\n",
    "<!-- ![source: Komar book](../figures/lecture05/secondary_breakers.jpg) -->\n",
    "<img src=\"../figures/lecture05/secondary_breakers.jpg\" width=\"600\">\n",
    "\n",
    "\n",
    "The natural beach is characterized by the arrival of waves having a large range of heights, with the **largest waves breaking in deeper water** while the **smaller waves** approach more closely to shore before they **break in shallow water**. Thus, at any position within the surf, one observes some waves that have already broken and display the white-water foam of bores, while other waves are still undergoing their transformations leading to initial breaing. As one proceeds from deep to shallow water on a uniformly sloping beach, there is a progressive increase in the proportion of waves that are breaking versus those that still have not reached instability and broke.\n",
    "\n",
    "#### b. energy dissipation\n",
    "\n",
    "Different from wave shoaling, when $\\overline{E}c_g = \\overline{E_0}c_{g0}$, \\\n",
    "wave breaking and generation of turbulence causes **energy dissipation** to remove energy from the wave $\\overline{E}c_g = \\overline{E_0}c_{g0} - \\int\\epsilon(x) dx$, where $\\epsilon$ is the loss in wave energy per unit area per unit time: J/(m$^2$s)"
   ]
  },
  {
   "cell_type": "markdown",
   "id": "0102b26c-1a0c-43e9-8bcd-ae2245a5bce9",
   "metadata": {},
   "source": [
    "## 3. Wave set-up and set-down\n",
    "\n",
    "### 1). undertow\n",
    "\n",
    "<!-- ![source: B.S. book](../figures/lecture05/undertow.png) -->\n",
    "<img src=\"../figures/lecture05/undertow.png\" width=\"800\">\n",
    "\n",
    "The undertow is important for seaward sediment transport, because of the relatively\n",
    "high offshore-directed velocity in the lower and middle part of the water column in\n",
    "a zone with relatively high sediment concentrations (due to wave-breaking). The undertow\n",
    "is thought to be responsible for the severe beach erosion during heavy storms (or the formation of \"winter beaches\").\n",
    "\n",
    "### 2). wave set-up and set-down\n",
    "\n",
    "<!-- ![source: textbook](../figures/lecture05/set_up_down.png) -->\n",
    "<img src=\"../figures/lecture05/set_up_down.png\" width=\"600\">\n",
    "\n",
    "When waves break on a beach, they produce a **set-up**, a rise in the mean water level above the still-water elevation of the sea. The set-up is confined to the surf zone shoreward of the point of initial wave breaking and consists of an upward slope of the water in the landward direction. The slope of the set-up water surface is less than the slope of the beach face, so the water intersects the beach at an effective shoreline elevation that is above the still-water shoreline. There is also a zone of **set-down**, a depression in the mean water surface below the still-water level that occurs in the offshore prior to wave breaking, the zone where waves are undergoing rapid transformations in their heights and energy as they shoal.\n"
   ]
  },
  {
   "cell_type": "markdown",
   "id": "170125f3-5ffa-4d49-af49-d08901ef2f2d",
   "metadata": {},
   "source": [
    "## 4. Longshore currents due to obliquely breaking waves\n",
    "\n",
    "Waves do not typically reach the beach perfectly parallel to the shoreline. Rather, they arrive at a slight angle, called the “angle of wave approach.” When a wave reaches a beach or coastline, it releases a burst of energy that generates a current, which runs parallel to the shoreline. This type of current is called a “longshore current.” Longshore currents can move up to 4 km/hr, strong enough to carry people with them, as everyone knows who has been swimming in the ocean only to look up and see that they have been carried far down the beach from their towel!\n",
    "\n",
    "![source: https://rwu.pressbooks.pub/webboceanography/chapter/13-2-longshore-transport/](../figures/lecture05/longshorecurrent.png)\n",
    "<!-- <img src=\"../figures/lecture05/longshorecurrent.png\" width=\"800\"> -->\n"
   ]
  },
  {
   "cell_type": "markdown",
   "id": "f653091a-6d03-459c-a7d1-663f45776e2e",
   "metadata": {},
   "source": [
    "## 5. Rip currents and cell circulation\n",
    "\n",
    "<!-- ![source: https://www.weather.gov/safety/dangerous-currents](../figures/lecture05/210503-DangerousCurrents.jpg) -->\n",
    "<img src=\"../figures/lecture05/210503-DangerousCurrents.jpg\" width=\"800\">\n",
    "\n",
    "\n",
    "### 1) due to shape of coastline\n",
    "Rip currents are strong, narrow currents that flow seaward from the surf zone. They\n",
    "are fed by longshore-directed surf zone currents that turn seaward to form a rip current.\n",
    "The longshore currents are generated by set-up differences and run from the\n",
    "position of the highest set-up towards the position of the lowest set-up. The alongshore\n",
    "variation in wave set-up can be generated by convergence and divergence of\n",
    "wave energy due to depth refraction or sheltering effects due to for instance headlands.\n",
    "An undulating coastline gives concentration of wave energy towards the undulations\n",
    "due to depth refraction.\n",
    "\n",
    "<!-- ![source: B.S. book](../figures/lecture05/rip_current_coastline) -->\n",
    "<img src=\"../figures/lecture05/rip_current_coastline.png\" width=\"600\">\n",
    "\n",
    "### 2) due to bathymetry (sand bar or submerged breakwater)\n",
    "\n",
    "The interruption of wave-breaking can generate rip currents along\n",
    "a stretch of coast. Non-homogeneous wave-breaking can occur in the case of a nonhomogeneous\n",
    "alongshore bar system or a (series of) submerged breakwater(s) on which\n",
    "waves break, see Fig. 5.49. (Partial) wave-breaking on the bar induces a set-up over\n",
    "the bar as well as an onshore flow. Water level gradients and continuity force the\n",
    "flow to deflect to the sides and return seaward in between the breakwaters or bars in\n",
    "a concentrated rip current.\n",
    "\n",
    "<!-- ![source: B.S. book](../figures/lecture05/rip_current_bathymetry) -->\n",
    "<img src=\"../figures/lecture05/rip_current_bathymetry.png\" width=\"600\">\n",
    "\n",
    "### 3) identify & survive a rip current\n",
    "\n",
    "<span style=\"color:hotpink\"> Before you go to a beach, make sure to check out the [National Weather Service Surf Zone Forecast](https://www.weather.gov/box/surfzone)</span> \n",
    "\n",
    "<!-- [Florida beaches on alert as NWS warns of deadly rip currents!](https://www.weather.gov/beach/florida) -->\n",
    "\n",
    "Look for any of these clues to identify rip current:\n",
    "\n",
    "- a channel of churning, choppy water\n",
    "- an area having a notable difference in water color\n",
    "- a line of foam, seaweed, or debris moving steadily seaward\n",
    "- a break in the incoming wave pattern\n",
    "\n",
    "How to Survive a Rip Current:\n",
    "\n",
    "- Relax. Rip currents don't pull you under.\n",
    "- A rip current is a natural treadmill that travels an average speed of 1-2 feet per second, but has been measured as fast as 8 feet per second -- faster than an Olympic swimmer. Trying to swim against a rip current will only use up your energy; energy you need to survive and escape the rip current.\n",
    "- Do NOT try to swim directly into to shore. Swim along the shoreline until you escape the current's pull. When free from the pull of the current, swim at an angle away from the current toward shore.\n",
    "- If you feel you can't reach shore, relax, face the shore, and call or wave for help. Remember: <span style=\"color:red\"> If in doubt, don't go out!</span> \n",
    "- If at all possible, only swim at beaches with lifeguards.\n",
    "- If you choose to swim on beaches without a lifeguard, never swim alone.  Take a friend and have that person take a cell phone so that person can call 911 for help."
   ]
  },
  {
   "cell_type": "markdown",
   "id": "02fe9e14-a486-49cc-bd49-e8c1121022bc",
   "metadata": {},
   "source": [
    "## 6. Sediment Transport\n",
    "There are two processes that work together to move sediment along a coastline: Longshore Drift and the Longshore Current. Combined, they are called **longshore transport**, or **littoral drift**.\n",
    "\n",
    "<!-- ![source: https://geophile.net/Lessons/waves/waves_02.html](../figures/lecture05/longshoredrift-current.fw.png) -->\n",
    "<img src=\"../figures/lecture05/longshoredrift-current.fw.png\" width=\"800\">\n",
    "\n",
    "### 1) longshore drift\n",
    "As waves crash and rush onto the shore, the not only move water but a little bit of sediment onto the beach. This is called the **swash**. Then the water pulls back away from the shore, moving water and a little bit of sediment off of the beach this is called the **backwash**.\n",
    "\n",
    "This zig-zag motion of sediment via the swash/backwash is called Longshore (or beach) Drift. Longshore drift is often interrupted by jetties, groins and breakwaters. This causes an undesirable build up of sand in areas where there shouldn't be.\n",
    "\n",
    "<!-- During periods of light wave activity the swash dominates. Sediment is moved toward shore, creating a wider beach. Light wave activity is associated with fair weather and is called a “Summertime” beach. During times of heavy wave activity the backwash dominates. Sediment is moved away from shore, creating a narrower beach. The sediment is forms offshore sand bars where it is stored until the summer. Heavy wave activity is associated with stormy weather and is referred to as a “Wintertime” beach. -->\n",
    "\n",
    "### 2) longshore current\n",
    "\n",
    "The Longshore Current moves down beach and is caused by waves hitting beach at angle. This current flows parallel to the shore and transports sediments down the coast. The longshore current moves substantially more sediment than does the longshore drift. How much? Around 150,000 to 300,000 m$^3$/yr on the Atlantic seaboard and 750,000 m$^3$/yr offshore Oxnard, California.\n",
    "\n",
    "### 3) loss of sediment into submarine canyons & through rip currents\n",
    "\n",
    "\n",
    "Together, the longshore drift and current transport sediment along a coastline until it reaches a submarine canyon. All of the sediment gets funneled down the canyons and onto the deep sea floor. Then the process starts up again just down shore from the canyon. Sections of coast in which sand input and sand output are balanced are referred to as coastal cells. Different canyons remove sediments at different rate, but the amount of sediment being removed by La Jolla canyon just north of San Diego is enormous: 150,000 m$^3$/yr.\n",
    "\n",
    "<!-- ![source: https://geophile.net/Lessons/waves/waves_02.html](../figures/lecture05/littoralcell.fw.png) -->\n",
    "<img src=\"../figures/lecture05/littoralcell.fw.png\" width=\"600\">\n",
    "\n",
    "Another way for a beach to loose sand is through rip currents. Rip currents or other strong currents carry sand offshore into deep water. \n"
   ]
  },
  {
   "cell_type": "code",
   "execution_count": null,
   "id": "db34f854-aaf6-4ef8-b229-ae9797f84548",
   "metadata": {},
   "outputs": [],
   "source": []
  }
 ],
 "metadata": {
  "kernelspec": {
   "display_name": "MARN-3060",
   "language": "python",
   "name": "marn-3060"
  },
  "language_info": {
   "codemirror_mode": {
    "name": "ipython",
    "version": 3
   },
   "file_extension": ".py",
   "mimetype": "text/x-python",
   "name": "python",
   "nbconvert_exporter": "python",
   "pygments_lexer": "ipython3",
   "version": "3.13.5"
  }
 },
 "nbformat": 4,
 "nbformat_minor": 5
}
